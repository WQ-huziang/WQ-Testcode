{
 "cells": [
  {
   "cell_type": "code",
   "execution_count": 72,
   "metadata": {},
   "outputs": [
    {
     "name": "stdout",
     "output_type": "stream",
     "text": [
      "Object `plt.set` not found.\n"
     ]
    },
    {
     "data": {
      "image/png": "[encoded data removed]",
      "text/plain": [
       "<matplotlib.figure.Figure at 0xed5c668>"
      ]
     },
     "metadata": {},
     "output_type": "display_data"
    },
    {
     "name": "stderr",
     "output_type": "stream",
     "text": [
      "C:\\ProgramData\\Anaconda2\\lib\\site-packages\\ipykernel_launcher.py:12: MatplotlibDeprecationWarning: The colors function was deprecated in version 2.1.\n",
      "  if sys.path[0] == '':\n"
     ]
    }
   ],
   "source": [
    "import seaborn as sns\n",
    "import matplotlib.pyplot as plt\n",
    "import pandas as pd\n",
    "import numpy as np\n",
    "df = pd.read_csv('../data/5min/000001.csv') \n",
    "sns.set(color_codes=True)\n",
    "sns.distplot(df['p_change'], kde = True, color='red')        # kde 密度曲线  rug 边际毛毯    \n",
    "plt.title('123')\n",
    "plt.set?\n",
    "plt.legend()\n",
    "plt.show()\n",
    "plt.colors()"
   ]
  },
  {
   "cell_type": "code",
   "execution_count": 50,
   "metadata": {},
   "outputs": [
    {
     "data": {
      "text/plain": [
       "array([[ 1.        ,  0.99177442],\n",
       "       [ 0.99177442,  1.        ]])"
      ]
     },
     "execution_count": 50,
     "metadata": {},
     "output_type": "execute_result"
    }
   ],
   "source": [
    "np.corrcoef(df['open'], df['close'])"
   ]
  },
  {
   "cell_type": "code",
   "execution_count": 73,
   "metadata": {},
   "outputs": [
    {
     "name": "stdout",
     "output_type": "stream",
     "text": [
      "<class 'pandas.core.indexes.range.RangeIndex'>\n"
     ]
    },
    {
     "data": {
      "text/plain": [
       "'open'"
      ]
     },
     "execution_count": 73,
     "metadata": {},
     "output_type": "execute_result"
    }
   ],
   "source": [
    "se = pd.Series(df['open'].values)\n",
    "print type(df['close'].index)\n",
    "\n",
    "(df['open'].index == df['close'].index).all()\n",
    "df['open'].name"
   ]
  },
  {
   "cell_type": "code",
   "execution_count": 179,
   "metadata": {},
   "outputs": [
    {
     "data": {
      "text/plain": [
       "300.0"
      ]
     },
     "execution_count": 179,
     "metadata": {},
     "output_type": "execute_result"
    }
   ],
   "source": [
    "from datetime import datetime\n",
    "import numpy as np\n",
    "string1 = '2018-01-19 15:00:00'\n",
    "string2 = '2018-01-19 16:00:00'\n",
    "\n",
    "df = pd.read_csv('../data/5min/000001.csv')\n",
    "date1 = datetime.strptime(df.date[0], \"%Y-%m-%d %H:%M:%S\")\n",
    "date2 = datetime.strptime(df.date[1], \"%Y-%m-%d %H:%M:%S\")\n",
    "t = date1 - date2\n",
    "t.total_seconds()\n",
    "# del df['date']\n",
    "# for column in df:\n",
    "#     print column, df[column].corr(df['open'])\n",
    "# matr = np.matrix(df.values)\n",
    "# np.corrcoef(matr, matr) > 0.5"
   ]
  },
  {
   "cell_type": "code",
   "execution_count": 184,
   "metadata": {},
   "outputs": [
    {
     "data": {
      "text/plain": [
       "'[1 2 3]'"
      ]
     },
     "execution_count": 184,
     "metadata": {},
     "output_type": "execute_result"
    }
   ],
   "source": [
    "a = np.array([1, 2, 3])\n",
    "\n",
    "b = pd.Series(a, name='predict')\n",
    "str(a)"
   ]
  },
  {
   "cell_type": "code",
   "execution_count": 203,
   "metadata": {},
   "outputs": [
    {
     "data": {
      "text/plain": [
       "[0, 0, 0]"
      ]
     },
     "execution_count": 203,
     "metadata": {},
     "output_type": "execute_result"
    }
   ],
   "source": [
    "class Test:\n",
    "    def __enter__(self):\n",
    "        print 'enter'\n",
    "        return self\n",
    "    def __exit__(self, a, b, c):\n",
    "        print 'exit'\n",
    "        return\n",
    "\n",
    "    \n",
    "[0] * len([1, 2, 3])"
   ]
  }
 ],
 "metadata": {
  "kernelspec": {
   "display_name": "Python 2",
   "language": "python",
   "name": "python2"
  },
  "language_info": {
   "codemirror_mode": {
    "name": "ipython",
    "version": 2
   },
   "file_extension": ".py",
   "mimetype": "text/x-python",
   "name": "python",
   "nbconvert_exporter": "python",
   "pygments_lexer": "ipython2",
   "version": "2.7.14"
  }
 },
 "nbformat": 4,
 "nbformat_minor": 2
}
