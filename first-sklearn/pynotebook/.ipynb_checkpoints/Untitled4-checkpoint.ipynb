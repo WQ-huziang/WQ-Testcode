{
 "cells": [
  {
   "cell_type": "code",
   "execution_count": 30,
   "metadata": {},
   "outputs": [
    {
     "data": {
      "image/png": "[encoded data removed]",
      "text/plain": [
       "<matplotlib.figure.Figure at 0x8da3080>"
      ]
     },
     "metadata": {},
     "output_type": "display_data"
    },
    {
     "data": {
      "image/png": "[encoded data removed]",
      "text/plain": [
       "<matplotlib.figure.Figure at 0x891b390>"
      ]
     },
     "metadata": {},
     "output_type": "display_data"
    }
   ],
   "source": [
    "import matplotlib.pyplot as plt\n",
    "import numpy as np\n",
    "import pandas as\n",
    "x = np.arange(1, 11, 1) \n",
    "label = [\"First\", \"Second\", \"Third\"]  \n",
    "plt.plot(x, x * 2, label='123')  \n",
    "plt.plot(x, x * 3)  \n",
    "plt.plot(x, x * 4)\n",
    "plt.figure(2)\n",
    "plt.legend()  \n",
    "plt.show()  "
   ]
  },
  {
   "cell_type": "code",
   "execution_count": 20,
   "metadata": {},
   "outputs": [],
   "source": [
    "import os\n",
    "import pandas as pd\n",
    "import numpy as np\n",
    "from sklearn.svm import SVC  \n",
    "from datetime import datetime, timedelta\n",
    "\n",
    "class FastResearchData:\n",
    "    'FastResearchData类，使用dict数据结构，可进行数据存储'\n",
    "\n",
    "    def __init__(self, dirpath='../data/5min/'):\n",
    "        \"\"\"\n",
    "        类构造函数\n",
    "            :param self: 类变量本身 \n",
    "            :param dirpath='../data/5min/':  数据存放目录的路径\n",
    "        \"\"\"   \n",
    "        self.dirpath = dirpath\n",
    "        self.stockdata = {}\n",
    "\n",
    "    def addDataFromKeyValue(self, stockname, df):\n",
    "        \"\"\"\n",
    "        载入数据，传入Key值和Value值，Value值为DataFrame\n",
    "            :param self: 类变量本身\n",
    "            :param stockname: 股票名称\n",
    "            :param df: 传入的DataFrame\n",
    "        \"\"\"\n",
    "        if not isinstance(df, pd.DataFrame):\n",
    "            raise Exception(\"df is not DataFrame!\")\n",
    "        self.stockdata[str(stockname)] = df\n",
    "\n",
    "    def addDataFromCSV(self, filename):\n",
    "        \"\"\"\n",
    "        读取指定CSV文件中的数据，键值设置为文件名\n",
    "            :param self: 类变量本身\n",
    "            :param filename: csv数据文件路径，包含后缀名\n",
    "        \"\"\"\n",
    "        if os.path.exists(self.dirpath + filename) == False:\n",
    "            raise Exception(\"Not exist this file!\")\n",
    "        self.stockdata[filename[filename.rfind('/') + 1:filename.rfind('.')]] = pd.read_csv(self.dirpath + filename)\n",
    "\n",
    "    def delDataByStockname(self, stockname):\n",
    "        \"\"\"\n",
    "        通过stockname删除指定数据\n",
    "            :param self: 类变量本身\n",
    "            :param stockname: 股票名称\n",
    "        \"\"\"\n",
    "        del self.stockdata[str(stockname)]\n",
    "\n",
    "    def getDatadict(self):\n",
    "        \"\"\"\n",
    "        得到结构里储存的字典数据\n",
    "            :param self: 类变量本身\n",
    "            :returns: 类储存的股票数据\n",
    "        \"\"\"   \n",
    "        return self.stockdata\n",
    "\n",
    "    def getDataFrameByStockname(self, stockname):\n",
    "        \"\"\"\n",
    "        通过股票名称得到data属性，可能为None\n",
    "            :param self: 类变量本身\n",
    "            :param stockname: 股票名称\n",
    "            :returns: 本身储存的DataFream\n",
    "        \"\"\"\n",
    "        return self.stockdata[str(stockname)]\n",
    "\n",
    "    def setDirPath(self, dirpath):\n",
    "        \"\"\"\n",
    "        设置文件夹路径\n",
    "            :param self: 类变量本身\n",
    "            :param dirpath: 类内部的dirpath\n",
    "        \"\"\"   \n",
    "        self.dirpath = dirpath\n",
    "\n",
    "    def getDirPath(self):\n",
    "        \"\"\"\n",
    "        得到类变量dirpath\n",
    "            :param self: 类变量本身\n",
    "            :returns: 类内部dirpath\n",
    "        \"\"\"\n",
    "        return self.dirpath\n",
    "\n",
    "    def getAllFilePath(self, filetype='.csv'):\n",
    "        \"\"\"\n",
    "        得到dirpath路径下的所有.csv文件的相对路径\n",
    "            :param self: 类变量本身\n",
    "            :param filetype=',csv': 文件类型种类，带.\n",
    "            :returns: 所有同类型文件的相对路径\n",
    "        \"\"\"\n",
    "        filepathlist = []\n",
    "        for _, _, names in os.walk(self.dirpath):\n",
    "            filepathlist += filter(lambda f : os.path.splitext(f)[1] == filetype, names)\n",
    "        return filepathlist\n"
   ]
  },
  {
   "cell_type": "code",
   "execution_count": 69,
   "metadata": {},
   "outputs": [
    {
     "name": "stdout",
     "output_type": "stream",
     "text": [
      "<type 'list'>\n"
     ]
    },
    {
     "ename": "ValueError",
     "evalue": "too many values to unpack",
     "output_type": "error",
     "traceback": [
      "\u001b[1;31m---------------------------------------------------------------------------\u001b[0m",
      "\u001b[1;31mValueError\u001b[0m                                Traceback (most recent call last)",
      "\u001b[1;32m<ipython-input-69-417a8e2ebe07>\u001b[0m in \u001b[0;36m<module>\u001b[1;34m()\u001b[0m\n\u001b[0;32m     10\u001b[0m \u001b[1;32mprint\u001b[0m \u001b[0mtype\u001b[0m\u001b[1;33m(\u001b[0m\u001b[0mdata1\u001b[0m\u001b[1;33m.\u001b[0m\u001b[0mcolumns\u001b[0m\u001b[1;33m.\u001b[0m\u001b[0mtolist\u001b[0m\u001b[1;33m(\u001b[0m\u001b[1;33m)\u001b[0m\u001b[1;33m)\u001b[0m\u001b[1;33m\u001b[0m\u001b[0m\n\u001b[0;32m     11\u001b[0m \u001b[0mnewdf\u001b[0m \u001b[1;33m=\u001b[0m \u001b[0mpd\u001b[0m\u001b[1;33m.\u001b[0m\u001b[0mDataFrame\u001b[0m\u001b[1;33m(\u001b[0m\u001b[1;33m[\u001b[0m\u001b[1;33m]\u001b[0m\u001b[1;33m,\u001b[0m \u001b[0mcolumns\u001b[0m\u001b[1;33m=\u001b[0m\u001b[1;33m[\u001b[0m\u001b[1;34m'stockname'\u001b[0m\u001b[1;33m]\u001b[0m \u001b[1;33m+\u001b[0m \u001b[0mdata1\u001b[0m\u001b[1;33m.\u001b[0m\u001b[0mcolumns\u001b[0m\u001b[1;33m.\u001b[0m\u001b[0mtolist\u001b[0m\u001b[1;33m(\u001b[0m\u001b[1;33m)\u001b[0m\u001b[1;33m)\u001b[0m\u001b[1;33m\u001b[0m\u001b[0m\n\u001b[1;32m---> 12\u001b[1;33m \u001b[1;32mfor\u001b[0m \u001b[0mkey\u001b[0m\u001b[1;33m,\u001b[0m \u001b[0mvalue\u001b[0m \u001b[1;32min\u001b[0m \u001b[0mdata\u001b[0m\u001b[1;33m.\u001b[0m\u001b[0mgetDatadict\u001b[0m\u001b[1;33m(\u001b[0m\u001b[1;33m)\u001b[0m\u001b[1;33m:\u001b[0m\u001b[1;33m\u001b[0m\u001b[0m\n\u001b[0m\u001b[0;32m     13\u001b[0m     \u001b[0mpd\u001b[0m\u001b[1;33m.\u001b[0m\u001b[0mconcat\u001b[0m\u001b[1;33m(\u001b[0m\u001b[1;33m[\u001b[0m\u001b[0mvalue\u001b[0m\u001b[1;33m,\u001b[0m \u001b[0mpd\u001b[0m\u001b[1;33m.\u001b[0m\u001b[0mconcat\u001b[0m\u001b[1;33m(\u001b[0m\u001b[1;33m[\u001b[0m\u001b[0mdata1\u001b[0m\u001b[1;33m,\u001b[0m \u001b[0mpd\u001b[0m\u001b[1;33m.\u001b[0m\u001b[0mSeries\u001b[0m\u001b[1;33m(\u001b[0m\u001b[0mnp\u001b[0m\u001b[1;33m.\u001b[0m\u001b[0mfull\u001b[0m\u001b[1;33m(\u001b[0m\u001b[0mlen\u001b[0m\u001b[1;33m(\u001b[0m\u001b[0mdata1\u001b[0m\u001b[1;33m)\u001b[0m\u001b[1;33m,\u001b[0m \u001b[0mint\u001b[0m\u001b[1;33m(\u001b[0m\u001b[0mkey\u001b[0m\u001b[1;33m)\u001b[0m\u001b[1;33m)\u001b[0m \u001b[1;33m,\u001b[0m\u001b[0mname\u001b[0m\u001b[1;33m=\u001b[0m\u001b[1;34m'stockname'\u001b[0m\u001b[1;33m)\u001b[0m\u001b[1;33m]\u001b[0m\u001b[1;33m,\u001b[0m \u001b[0maxis\u001b[0m\u001b[1;33m=\u001b[0m\u001b[1;36m1\u001b[0m\u001b[1;33m)\u001b[0m\u001b[1;33m]\u001b[0m\u001b[1;33m)\u001b[0m\u001b[1;33m\u001b[0m\u001b[0m\n\u001b[0;32m     14\u001b[0m \u001b[0mvalue\u001b[0m\u001b[1;33m\u001b[0m\u001b[0m\n",
      "\u001b[1;31mValueError\u001b[0m: too many values to unpack"
     ]
    }
   ],
   "source": [
    "data = FastResearchData()\n",
    "data.getAllFilePath()\n",
    "data.addDataFromCSV('000001.csv')\n",
    "data.getDataFrameByStockname('000001')\n",
    "test = pd.read_csv('../data/5min/000002.csv')\n",
    "data.addDataFromKeyValue('000002', test)\n",
    "df = data.getDataFrameByStockname('000002')\n",
    "data1 = data.getDataFrameByStockname('000001')\n",
    "data2 = data.getDataFrameByStockname('000002')\n",
    "print type(data1.columns.tolist())\n",
    "newdf = pd.DataFrame([], columns=['stockname'] + data1.columns.tolist())\n",
    "for key, value in data.getDatadict():\n",
    "    pd.concat([key, pd.concat([value, pd.Series(np.full(len(data1), int(key)) ,name='stockname')], axis=1)])\n",
    "newdf"
   ]
  },
  {
   "cell_type": "code",
   "execution_count": 37,
   "metadata": {},
   "outputs": [
    {
     "data": {
      "text/plain": [
       "123"
      ]
     },
     "execution_count": 37,
     "metadata": {},
     "output_type": "execute_result"
    }
   ],
   "source": [
    "df.iloc[1, 1] = np.nan\n",
    "df = \n",
    "df = df.reset_index(drop=True)\n",
    "df\n",
    "int('000123')"
   ]
  },
  {
   "cell_type": "code",
   "execution_count": null,
   "metadata": {
    "collapsed": true
   },
   "outputs": [],
   "source": [
    "df.dropna().reset_index"
   ]
  }
 ],
 "metadata": {
  "kernelspec": {
   "display_name": "Python 2",
   "language": "python",
   "name": "python2"
  },
  "language_info": {
   "codemirror_mode": {
    "name": "ipython",
    "version": 2
   },
   "file_extension": ".py",
   "mimetype": "text/x-python",
   "name": "python",
   "nbconvert_exporter": "python",
   "pygments_lexer": "ipython2",
   "version": "2.7.14"
  }
 },
 "nbformat": 4,
 "nbformat_minor": 2
}
