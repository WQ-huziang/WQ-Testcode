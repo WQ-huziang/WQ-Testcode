{
 "cells": [
  {
   "cell_type": "code",
   "execution_count": 32,
   "metadata": {},
   "outputs": [
    {
     "data": {
      "text/plain": [
       "True"
      ]
     },
     "execution_count": 32,
     "metadata": {},
     "output_type": "execute_result"
    }
   ],
   "source": [
    "from datetime import datetime, timedelta\n",
    "start_date = datetime.strptime(\"2016-06-07\", \"%Y-%m-%d %H:%M:%S\")  \n",
    "start_date\n",
    "end_date = datetime.strptime(\"2016-06-05\", \"%Y-%m-%d\")  \n",
    "start_date - end_date == timedelta(1)"
   ]
  },
  {
   "cell_type": "code",
   "execution_count": 21,
   "metadata": {},
   "outputs": [
    {
     "name": "stdout",
     "output_type": "stream",
     "text": [
      "1\n"
     ]
    }
   ],
   "source": [
    "class Test:\n",
    "    re = '1'\n",
    "t = Test()\n",
    "print t.re"
   ]
  },
  {
   "cell_type": "code",
   "execution_count": 23,
   "metadata": {},
   "outputs": [
    {
     "name": "stdout",
     "output_type": "stream",
     "text": [
      "False\n",
      "True\n"
     ]
    }
   ],
   "source": [
    "print hasattr(t, 'add')\n",
    "t.add = '123'\n",
    "print hasattr(t, 'add')"
   ]
  },
  {
   "cell_type": "code",
   "execution_count": 119,
   "metadata": {},
   "outputs": [
    {
     "name": "stdout",
     "output_type": "stream",
     "text": [
      "Empty DataFrame\n",
      "Columns: [lib, qty1, qty2]\n",
      "Index: []\n",
      "   lib  qty1  qty2  str\n",
      "0    1     2     3  abc\n",
      "   lib qty1 qty2  str\n",
      "0    1    0    1    a\n",
      "1  100    2    3  abc\n",
      "2   -1   -1   -1    c\n",
      "3   -1    1    1    d\n",
      "4    1    1    1    e\n"
     ]
    }
   ],
   "source": [
    "from pandas import *  \n",
    "from random import *  \n",
    "df = DataFrame(columns=('lib', 'qty1', 'qty2'))#生成空的pandas表  \n",
    "print df\n",
    "for i in range(5):#插入一行<span id=\"transmark\" style=\"display: none; width: 0px; height: 0px;\"></span>  \n",
    "    df.loc[i] = [randint(-1,1) for n in range(3)]\n",
    "df['str'] = list('abcde')\n",
    "before = df[0:2]\n",
    "newone = DataFrame([[1,2,3] + ['abc']], columns=df.columns)\n",
    "print newone.loc[0:1]\n",
    "\n",
    "df = df[:1].append(newone, ignore_index=True).append(df[2:], ignore_index=True)\n",
    "df.loc[1:1,'lib'] = 100\n",
    "print df  "
   ]
  },
  {
   "cell_type": "code",
   "execution_count": null,
   "metadata": {
    "collapsed": true
   },
   "outputs": [],
   "source": [
    "newone = DataFrame"
   ]
  },
  {
   "cell_type": "code",
   "execution_count": 48,
   "metadata": {},
   "outputs": [
    {
     "data": {
      "text/plain": [
       "[1, 2, 3]"
      ]
     },
     "execution_count": 48,
     "metadata": {},
     "output_type": "execute_result"
    }
   ],
   "source": [
    "a = [1, 2, 3]\n",
    "map(lambda x: x - 1, a)\n",
    "a"
   ]
  },
  {
   "cell_type": "code",
   "execution_count": 67,
   "metadata": {},
   "outputs": [
    {
     "name": "stdout",
     "output_type": "stream",
     "text": [
      "[1, 2]\n"
     ]
    }
   ],
   "source": [
    "a = range(3)[1:]\n",
    "print a"
   ]
  },
  {
   "cell_type": "code",
   "execution_count": 98,
   "metadata": {},
   "outputs": [
    {
     "ename": "TypeError",
     "evalue": "cannot concatenate 'str' and 'list' objects",
     "output_type": "error",
     "traceback": [
      "\u001b[1;31m---------------------------------------------------------------------------\u001b[0m",
      "\u001b[1;31mTypeError\u001b[0m                                 Traceback (most recent call last)",
      "\u001b[1;32m<ipython-input-98-adb7686c6e22>\u001b[0m in \u001b[0;36m<module>\u001b[1;34m()\u001b[0m\n\u001b[1;32m----> 1\u001b[1;33m \u001b[1;34m'data'\u001b[0m \u001b[1;33m+\u001b[0m \u001b[0mrange\u001b[0m\u001b[1;33m(\u001b[0m\u001b[1;36m3\u001b[0m\u001b[1;33m)\u001b[0m\u001b[1;33m\u001b[0m\u001b[0m\n\u001b[0m",
      "\u001b[1;31mTypeError\u001b[0m: cannot concatenate 'str' and 'list' objects"
     ]
    }
   ],
   "source": [
    "'data' + range(3)"
   ]
  },
  {
   "cell_type": "raw",
   "metadata": {},
   "source": [
    "dataframe"
   ]
  }
 ],
 "metadata": {
  "kernelspec": {
   "display_name": "Python 2",
   "language": "python",
   "name": "python2"
  },
  "language_info": {
   "codemirror_mode": {
    "name": "ipython",
    "version": 2
   },
   "file_extension": ".py",
   "mimetype": "text/x-python",
   "name": "python",
   "nbconvert_exporter": "python",
   "pygments_lexer": "ipython2",
   "version": "2.7.14"
  }
 },
 "nbformat": 4,
 "nbformat_minor": 2
}
